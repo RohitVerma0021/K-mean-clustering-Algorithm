{
  "nbformat": 4,
  "nbformat_minor": 0,
  "metadata": {
    "colab": {
      "name": "K means.ipynb",
      "provenance": [],
      "collapsed_sections": []
    },
    "kernelspec": {
      "name": "python3",
      "display_name": "Python 3"
    },
    "language_info": {
      "name": "python"
    }
  },
  "cells": [
    {
      "cell_type": "code",
      "execution_count": null,
      "metadata": {
        "id": "YYygsMGq_MyV"
      },
      "outputs": [],
      "source": [
        "pip install pyspark"
      ]
    },
    {
      "cell_type": "code",
      "source": [
        "from pyspark.ml.clustering import KMeans"
      ],
      "metadata": {
        "id": "lyx3F77M_rrU"
      },
      "execution_count": null,
      "outputs": []
    },
    {
      "cell_type": "code",
      "source": [
        "from pyspark.sql import SparkSession"
      ],
      "metadata": {
        "id": "J6ONeSQq_xwo"
      },
      "execution_count": null,
      "outputs": []
    },
    {
      "cell_type": "code",
      "source": [
        "session = SparkSession.builder.appName('cluster').getOrCreate()"
      ],
      "metadata": {
        "id": "G2mQEK6D_35k"
      },
      "execution_count": null,
      "outputs": []
    },
    {
      "cell_type": "code",
      "source": [
        "data = session.read.csv(\"cluster menu.csv\", header = True, inferSchema=True)"
      ],
      "metadata": {
        "id": "cCKwPmEU_9Mf"
      },
      "execution_count": null,
      "outputs": []
    },
    {
      "cell_type": "code",
      "source": [
        "data.show(5)"
      ],
      "metadata": {
        "id": "EGqdg_i0AEnm"
      },
      "execution_count": null,
      "outputs": []
    },
    {
      "cell_type": "code",
      "source": [
        "data.count()"
      ],
      "metadata": {
        "id": "H7MvyX2PAJA7"
      },
      "execution_count": null,
      "outputs": []
    },
    {
      "cell_type": "code",
      "source": [
        "data.columns"
      ],
      "metadata": {
        "id": "pqTGOvwEAOFN"
      },
      "execution_count": null,
      "outputs": []
    },
    {
      "cell_type": "code",
      "source": [
        "data.describe()"
      ],
      "metadata": {
        "id": "TRo-_0laAWFQ"
      },
      "execution_count": null,
      "outputs": []
    },
    {
      "cell_type": "code",
      "source": [
        "from pyspark.ml.feature import VectorAssembler"
      ],
      "metadata": {
        "id": "mGufYohyAXpi"
      },
      "execution_count": null,
      "outputs": []
    },
    {
      "cell_type": "code",
      "source": [
        "vector_ass = VectorAssembler(inputCols = [\n",
        "'Calories',\n",
        "'Calories from Fat',\n",
        "'Total Fat',\n",
        "'Total Fat (% Daily Value)',\n",
        "'Saturated Fat',\n",
        "'Saturated Fat (% Daily Value)',\n",
        "'Trans Fat',\n",
        "'Cholesterol',\n",
        "'Cholesterol (% Daily Value)',\n",
        "'Sodium',\n",
        "'Sodium (% Daily Value)',\n",
        "'Carbohydrates',\n",
        "'Carbohydrates (% Daily Value)',\n",
        "'Dietary Fiber',\n",
        "'Dietary Fiber (% Daily Value)',\n",
        "'Sugars',\n",
        "'Protein',\n",
        "'Vitamin A (% Daily Value)',\n",
        "'Vitamin C (% Daily Value)',\n",
        "'Calcium (% Daily Value)',\n",
        "'Iron (% Daily Value)'], outputCol = \"allfeatures\")"
      ],
      "metadata": {
        "id": "5Y3HWv5AAcAM"
      },
      "execution_count": null,
      "outputs": []
    },
    {
      "cell_type": "code",
      "source": [
        "newdata = vector_ass.transform(data)"
      ],
      "metadata": {
        "id": "PFMRej9YAlcw"
      },
      "execution_count": null,
      "outputs": []
    },
    {
      "cell_type": "code",
      "source": [
        "newdata.show(5)"
      ],
      "metadata": {
        "id": "2aC71Q_JAq2a"
      },
      "execution_count": null,
      "outputs": []
    },
    {
      "cell_type": "code",
      "source": [
        "model = KMeans(featuresCol = \"allfeatures\").setK(3)\n",
        "new_model = model.fit(newdata)\n",
        "result = new_model.transform(newdata)\n",
        "result.show()"
      ],
      "metadata": {
        "id": "nMtqBFooAvGe"
      },
      "execution_count": null,
      "outputs": []
    },
    {
      "cell_type": "code",
      "source": [
        "cluster1 = result.filter(result[\"prediction\"]== 0)\n",
        "cluster1.count()"
      ],
      "metadata": {
        "id": "UMUfeTLFA4v0"
      },
      "execution_count": null,
      "outputs": []
    },
    {
      "cell_type": "code",
      "source": [
        "cluster2 = result.filter(result[\"prediction\"]==1)\n",
        "cluster2.count()"
      ],
      "metadata": {
        "id": "kCmmhXqZBGZI"
      },
      "execution_count": null,
      "outputs": []
    },
    {
      "cell_type": "code",
      "source": [
        "cluster3 = result.filter(result[\"prediction\"]==2)\n",
        "cluster3.count()"
      ],
      "metadata": {
        "id": "PKUMNJh2BG6K"
      },
      "execution_count": null,
      "outputs": []
    }
  ]
}